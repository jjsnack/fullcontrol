{
 "cells": [
  {
   "cell_type": "code",
   "execution_count": null,
   "metadata": {},
   "outputs": [],
   "source": [
    "import fullcontrol as fc\n",
    "import numpy as np\n",
    "import math\n",
    "from math import tau\n",
    "from math import pi\n",
    "\n",
    "import typing as tp"
   ]
  },
  {
   "cell_type": "code",
   "execution_count": null,
   "metadata": {},
   "outputs": [],
   "source": [
    "filename = 'my_design'\n",
    "# printer options: generic, ultimaker2plus, prusa_i3, ender_3, cr_10, bambulab_x1, toolchanger_T0, toolchanger_T1, toolchanger_T2, toolchanger_T3\n",
    "print_settings = {\n",
    "    'extrusion_width': 0.5,\n",
    "    'extrusion_height': 0.2, \n",
    "    'fan_percent': 60,\n",
    "    'print_speed': 1000,\n",
    "    'travel_speed': 8000,\n",
    "    'area_model': 'stadium',\n",
    "    'e_units': 'mm',\n",
    "    'dia_feed': 1.75,\n",
    "    'relative_e': True\n",
    "    }\n",
    "\n",
    "\n",
    "gcode_controls = fc.GcodeControls(printer_name='custom', save_as=filename, initialization_data=print_settings, include_date=False)\n",
    "\n",
    "start_steps = [fc.ManualGcode(text='START_PRINT BED=50 EXTRUDER=200 MESH=last BED_TYPE=\"Textured PEI Plate\"')]\n",
    "\n",
    "end_steps = [fc.ManualGcode(text='END_PRINT')]\n",
    "\n",
    "\n",
    "# 'extrusion_width' and 'extrusion_height' are the width and height of the printed line)"
   ]
  },
  {
   "cell_type": "markdown",
   "metadata": {},
   "source": [
    "# Wavy\n"
   ]
  },
  {
   "cell_type": "code",
   "execution_count": null,
   "metadata": {},
   "outputs": [],
   "source": [
    "dz = 0.2\n",
    "\n",
    "ang_res = 256\n",
    "dtheta = tau/ang_res\n",
    "\n",
    "height = 20\n",
    "\n",
    "points = int(height*ang_res/dz)\n",
    "\n",
    "def radius(z, theta):\n",
    "    return 0.5*np.sin(3*(z/height)*tau)+5+0.2*np.sin(theta*24)\n",
    "\n",
    "steps = []\n",
    "for point in range(points):\n",
    "    hz = height*point/points\n",
    "    theta =tau* point/ang_res\n",
    "\n",
    "    # print(point, hz, theta)\n",
    "\n",
    "    steps.append(fc.polar_to_point(fc.Point(x=0, y=0, z=hz), radius(hz, theta), theta))\n",
    "\n",
    "fc.transform(steps, 'plot', fc.PlotControls(color_type='print_sequence'))"
   ]
  },
  {
   "cell_type": "markdown",
   "metadata": {},
   "source": [
    "# Ribbed"
   ]
  },
  {
   "cell_type": "code",
   "execution_count": null,
   "metadata": {},
   "outputs": [],
   "source": [
    "# TODO: Make a class for objects that modifiers can be applied to"
   ]
  },
  {
   "cell_type": "code",
   "execution_count": null,
   "metadata": {},
   "outputs": [],
   "source": [
    "def smoothed(value, amount, resolution = 2):\n",
    "    return np.linspace(value-amount, value+amount, resolution)\n",
    "\n",
    "def polygon(n, z, theta, rad):\n",
    "    mtheta = theta % (tau / n)\n",
    "    unitradius = (np.sin(pi * (1/2 - 1/n))) / (np.sin(pi * (1/2 + 1/n) - mtheta))\n",
    "    return np.mean(rad * unitradius)\n",
    "\n",
    "def lerp(shape1, shape2, z):\n",
    "    # z from 0 to 1\n",
    "    return np.mean(shape1 * (1 - z) + shape2 * z)\n"
   ]
  },
  {
   "cell_type": "code",
   "execution_count": null,
   "metadata": {},
   "outputs": [],
   "source": [
    "polygon(4, 0, smoothed(0, 0.5), 20)"
   ]
  },
  {
   "cell_type": "code",
   "execution_count": null,
   "metadata": {},
   "outputs": [],
   "source": [
    "dz = 0.2\n",
    "\n",
    "ribs = 48\n",
    "\n",
    "ares = ribs*6\n",
    "\n",
    "dtheta = tau/ares\n",
    "\n",
    "ddz = dz/ares\n",
    "\n",
    "height = 50\n",
    "\n",
    "\n",
    "\n",
    "def innerradius(z, theta):\n",
    "    return 10\n",
    "\n",
    "def outerradius(z, theta):\n",
    "    # return 0.5*np.sin((z/height)*tau)+12#+0.2*np.sin(theta*24)\n",
    "    return polygon(z, theta + tau * (z /(6* height)), 6, 20)\n",
    "    # return lerp(polygon(z, theta + tau * (z /(6* height)), 6, 20), polygon(z, theta + tau * (z /(6* height)), 6, 20), z/height)\n",
    "\n",
    "\n",
    "def wallpoint(radius, theta, hz):\n",
    "    # Finds point on the outer wall?\n",
    "    return fc.polar_to_point(fc.Point(x=0, y=0, z=hz), innerradius(hz, theta), theta)\n",
    "    \n",
    "steps = [fc.Extruder(on=True)]\n",
    "hz = 0\n",
    "\n",
    "for layer in range(int(height/dz)):\n",
    "    for point in range(ares):\n",
    "\n",
    "        theta = point * dtheta\n",
    "\n",
    "        hz = layer * dz + point * ddz\n",
    "\n",
    "        if point % 6 == 1:\n",
    "            steps.append(fc.move_polar(steps[-1], centre=steps[-1], radius=outerradius(hz, theta)- innerradius(hz, theta), angle=theta + dtheta/2))\n",
    "            steps.append(wallpoint(outerradius, theta, hz))\n",
    "        else:\n",
    "            steps.append(wallpoint(innerradius, theta, hz))\n",
    "\n",
    "steps = fc.move(steps, fc.Vector(x=50, y = 50, z=0))\n",
    "\n",
    "fc.transform(steps, 'plot', fc.PlotControls(color_type='print_sequence'))"
   ]
  },
  {
   "cell_type": "markdown",
   "metadata": {},
   "source": [
    "# Final framework"
   ]
  },
  {
   "cell_type": "code",
   "execution_count": null,
   "metadata": {},
   "outputs": [],
   "source": [
    "dz = 0.2\n",
    "\n",
    "ribs = 48\n",
    "\n",
    "segments = 6\n",
    "\n",
    "ares = ribs*segments # Segments per rib\n",
    "\n",
    "dtheta = tau/ares # Angular step\n",
    "\n",
    "print('minres:', 20*dtheta)\n",
    "\n",
    "ddz = dz/ares\n",
    "\n",
    "height = 40\n",
    "\n",
    "epsilon = 0.05\n",
    "\n",
    "\n",
    "\n",
    "def innerradius(z, theta):\n",
    "    return 10\n",
    "\n",
    "def outerradius(z, theta):\n",
    "    return polygon(6, z, smoothed(theta + z*tau/(height*6), 0.1), 20)\n",
    "    # return lerp(polygon(4, z, smoothed(theta, 0.1), 20), polygon(4, z, smoothed(theta + pi/4, 0.1), 20), smoothed(z/height, 1))\n",
    "\n",
    "def wallpoint(radius, hz, theta, thetarad = None):\n",
    "    # Finds point on the outer wall?\n",
    "    if thetarad is None:\n",
    "        thetarad = theta\n",
    "\n",
    "    return fc.polar_to_point(fc.Point(x=0, y=0, z=hz), radius(hz, thetarad), theta)\n",
    "    \n",
    "steps = [fc.Extruder(on=True)]\n",
    "hz = 0\n",
    "\n",
    "total_segments = int(height*ribs*segments/dz)\n",
    "total_radians = total_segments * dtheta\n",
    "\n",
    "theta = 0\n",
    "\n",
    "def segment2z(segment):\n",
    "    return segment * height / total_segments\n",
    "\n",
    "def theta_to_z(theta):\n",
    "    return theta * height / total_radians\n",
    "\n",
    "def ribTheta(radius, epsilon):\n",
    "    return epsilon / (2 * radius)\n",
    "\n",
    "for segment in range(total_segments):\n",
    "    theta = segment * dtheta\n",
    "    z = segment2z(segment)\n",
    "    steps.append(wallpoint(innerradius, z, theta))\n",
    "\n",
    "    if segment % segments == 0:\n",
    "\n",
    "        midtheta = theta + ribTheta(innerradius(z, theta), epsilon)\n",
    "        endtheta = theta + 2 * ribTheta(innerradius(z, theta), epsilon)\n",
    "        deltheta =  ribTheta(outerradius(z, theta), epsilon)\n",
    "\n",
    "        steps.append(wallpoint(outerradius, theta_to_z(midtheta - deltheta), midtheta - deltheta, midtheta))\n",
    "        steps.append(wallpoint(outerradius, theta_to_z(midtheta + deltheta), midtheta + deltheta, midtheta))\n",
    "        steps.append(wallpoint(innerradius, theta_to_z(endtheta), endtheta))\n",
    "\n",
    "\n",
    "\n",
    "\n",
    "\n",
    "steps = fc.move(steps, fc.Vector(x=50, y = 50, z=0))\n",
    "\n",
    "fc.transform(steps, 'plot', fc.PlotControls(color_type='print_sequence', style='line'))"
   ]
  },
  {
   "cell_type": "code",
   "execution_count": null,
   "metadata": {},
   "outputs": [],
   "source": [
    "\n",
    "\n",
    "total = start_steps+steps+end_steps\n",
    "fc.transform(total, 'gcode', gcode_controls)\n"
   ]
  }
 ],
 "metadata": {
  "kernelspec": {
   "display_name": ".venv",
   "language": "python",
   "name": "python3"
  },
  "language_info": {
   "codemirror_mode": {
    "name": "ipython",
    "version": 3
   },
   "file_extension": ".py",
   "mimetype": "text/x-python",
   "name": "python",
   "nbconvert_exporter": "python",
   "pygments_lexer": "ipython3",
   "version": "3.12.7"
  }
 },
 "nbformat": 4,
 "nbformat_minor": 2
}
